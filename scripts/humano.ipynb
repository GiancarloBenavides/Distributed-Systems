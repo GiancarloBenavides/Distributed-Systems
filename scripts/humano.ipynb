{
 "cells": [
  {
   "cell_type": "code",
   "execution_count": 5,
   "metadata": {},
   "outputs": [],
   "source": [
    "class Humano():\n",
    "    \"\"\" Creamos la clase Humano. \"\"\"\n",
    "\n",
    "    def __init__(self, nombre: str, apellido: str, edad: int, longitud_cabello: int) -> None:\n",
    "        \"\"\" Inicializa los atributos de la clase \"\"\"\n",
    "        self.nombre = nombre\n",
    "        self.apellido = apellido\n",
    "        self.edad = edad\n",
    "        self.longitud_cabello = longitud_cabello\n",
    "\n",
    "    def cortar_cabello(self, cantidad: int = 2) -> int:\n",
    "        \"\"\" Corta el cabello de un humano en una cantidad.\"\"\"\n",
    "        if self.longitud_cabello > cantidad:\n",
    "            self.longitud_cabello -= cantidad\n",
    "        return self.longitud_cabello\n",
    "    \n",
    "    def mostrar_cabello(self) -> None:\n",
    "        print(f\"{self.nombre} {self.apellido} ahora tiene {self.longitud_cabello} cm de cabello\")\n"
   ]
  },
  {
   "cell_type": "code",
   "execution_count": 6,
   "metadata": {},
   "outputs": [
    {
     "name": "stdout",
     "output_type": "stream",
     "text": [
      "Carolina Perea ahora tiene 20 cm de cabello\n",
      "Carolina Perea ahora tiene 15 cm de cabello\n"
     ]
    }
   ],
   "source": [
    "carolina = Humano(\"Carolina\", \"Perea\", 31, 20)\n",
    "carolina.mostrar_cabello()\n",
    "carolina.cortar_cabello()\n",
    "carolina.cortar_cabello(3)\n",
    "carolina.mostrar_cabello()"
   ]
  }
 ],
 "metadata": {
  "kernelspec": {
   "display_name": "Python 3",
   "language": "python",
   "name": "python3"
  },
  "language_info": {
   "codemirror_mode": {
    "name": "ipython",
    "version": 3
   },
   "file_extension": ".py",
   "mimetype": "text/x-python",
   "name": "python",
   "nbconvert_exporter": "python",
   "pygments_lexer": "ipython3",
   "version": "3.11.3"
  },
  "orig_nbformat": 4
 },
 "nbformat": 4,
 "nbformat_minor": 2
}
